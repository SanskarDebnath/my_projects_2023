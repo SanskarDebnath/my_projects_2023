{
 "cells": [
  {
   "cell_type": "code",
   "execution_count": null,
   "id": "7443340a",
   "metadata": {},
   "outputs": [],
   "source": [
    "# Exception Handling:"
   ]
  },
  {
   "cell_type": "code",
   "execution_count": null,
   "id": "8333b04b",
   "metadata": {},
   "outputs": [],
   "source": [
    "# 1 Create a program that takes two numbers as input and calculates their division. \n",
    "# Handle the ZeroDivisionError if the second number is zero."
   ]
  },
  {
   "cell_type": "code",
   "execution_count": null,
   "id": "732dcdc8",
   "metadata": {},
   "outputs": [],
   "source": [
    "num1 = int(input(\"Dividend: \"))\n",
    "num2 = int(input(\"Divisor: \"))\n",
    "try:\n",
    "    print(\"Quotient: \", num1//num2)\n",
    "    print(\"Remainder: \",num1%num2)\n",
    "except:\n",
    "    print(\"Undefined!\")"
   ]
  },
  {
   "cell_type": "code",
   "execution_count": null,
   "id": "d7af35d5",
   "metadata": {},
   "outputs": [],
   "source": [
    "# 2 Write a function that reads a text file and counts the number of lines. \n",
    "# Handle the FileNotFoundError if the file does not exist."
   ]
  },
  {
   "cell_type": "code",
   "execution_count": null,
   "id": "9d354972",
   "metadata": {},
   "outputs": [],
   "source": [
    "try:\n",
    "    myFile = open(\"C:\\\\Users\\\\adity\\\\OneDrive\\\\Documents\\\\programming\\\\python\\\\test.txt\",\"r\")\n",
    "    openFile = myFile.read()\n",
    "    contentList = openFile.split(\"\\n\")\n",
    "    while True:\n",
    "        if '' in contentList:\n",
    "            contentList.remove('')\n",
    "        else:\n",
    "            break\n",
    "    print(\"File successfully executed!\")\n",
    "    print(\"\\nThe file contain \"+str(len(contentList))+\" lines.\\n\")\n",
    "    #print(openFile)\n",
    "\n",
    "except:\n",
    "    print(\"File not found!\")\n",
    "    \n"
   ]
  },
  {
   "cell_type": "code",
   "execution_count": null,
   "id": "2ffe4699",
   "metadata": {},
   "outputs": [],
   "source": [
    "# 3 Implement a calculator that can perform addition, subtraction, multiplication, and division operations. \n",
    "# Handle invalid operator inputs with an appropriate error message."
   ]
  },
  {
   "cell_type": "code",
   "execution_count": null,
   "id": "5af791ae",
   "metadata": {},
   "outputs": [],
   "source": [
    "val1 = int(input(\"first number: \"))\n",
    "val2 = int(input(\"second number: \"))\n",
    "operator = input(\"(+,-,*,/) please select the operation: \")\n",
    "if operator == '+':\n",
    "    print(\"Addition: \", val1 + val2)\n",
    "elif operator == '-':\n",
    "    print(\"subtraction: \",val1 - val2)\n",
    "elif operator == '*':\n",
    "    print(\"multiplication: \",val1*val2)\n",
    "elif operator == '/':\n",
    "        try:\n",
    "            print(\"Division: \", val1/val2)\n",
    "            \n",
    "        except:\n",
    "            print(\"Undefined!\")\n",
    "else:\n",
    "    print(\"Invalid Operator!\")\n",
    "    "
   ]
  },
  {
   "cell_type": "code",
   "execution_count": null,
   "id": "d09fdf0c",
   "metadata": {},
   "outputs": [],
   "source": [
    "# 4 Develop a program that prompts the user for their age. \n",
    "# Handle a ValueError if the input cannot be converted to an integer.\n"
   ]
  },
  {
   "cell_type": "code",
   "execution_count": null,
   "id": "204e79d5",
   "metadata": {},
   "outputs": [],
   "source": [
    "try:\n",
    "    age = int(input(\"Enter your age: \"))\n",
    "    print(\"Your age is: \",age)\n",
    "except:\n",
    "    print(\"Invalid value type entered!\")"
   ]
  },
  {
   "cell_type": "code",
   "execution_count": null,
   "id": "849da615",
   "metadata": {},
   "outputs": [],
   "source": [
    "# 5 Create a function that opens a file and returns the content. \n",
    "# Handle the I/O Error that might occur if the file is not accessible.\n"
   ]
  },
  {
   "cell_type": "code",
   "execution_count": null,
   "id": "54bd1378",
   "metadata": {},
   "outputs": [],
   "source": [
    "def fileHandler(file):\n",
    "    try:\n",
    "        openFile = open(file,\"r\")\n",
    "        fileContent = openFile.read()\n",
    "        return fileContent\n",
    "    except:\n",
    "        message = \"File not found!\"\n",
    "        return message\n",
    "\n",
    "myFile = fileHandler(\"C:\\\\Users\\\\adity\\\\OneDrive\\\\Documents\\\\programming\\\\python\\\\test.txt\")\n",
    "print(myFile)"
   ]
  },
  {
   "cell_type": "code",
   "execution_count": null,
   "id": "5650c6cb",
   "metadata": {},
   "outputs": [],
   "source": [
    "# Random Number Generation:"
   ]
  },
  {
   "cell_type": "code",
   "execution_count": null,
   "id": "8016f9ad",
   "metadata": {},
   "outputs": [],
   "source": [
    "# 1 Build a guessing game where the program generates a random number and the user has to guess it. \n",
    "# Provide hints whether the guess is too high or too low."
   ]
  },
  {
   "cell_type": "code",
   "execution_count": null,
   "id": "57f6d15d",
   "metadata": {},
   "outputs": [],
   "source": [
    "import random as r\n",
    "number = r.randint(0,9)\n",
    "while True:\n",
    "    userVal = int(input(\"Please enter a number between 0 to 9:\"))\n",
    "    if userVal < number:\n",
    "        print(\"Please enter a higher number!\")\n",
    "    elif userVal > number:\n",
    "        print(\"Please enter a lower number!\")\n",
    "    else:\n",
    "        print(\"Well Done! Your answer is correct.\")\n",
    "        break"
   ]
  },
  {
   "cell_type": "code",
   "execution_count": null,
   "id": "c97afcf5",
   "metadata": {},
   "outputs": [],
   "source": [
    "# 2 Write a function that simulates a simple dice game. \n",
    "#  The user rolls a dice, and if they get a 6, they win."
   ]
  },
  {
   "cell_type": "code",
   "execution_count": null,
   "id": "32d33539",
   "metadata": {},
   "outputs": [],
   "source": [
    "import random as r\n",
    "def myDice():\n",
    "    val = r.randint(1,6)\n",
    "    return val\n",
    "\n",
    "result = myDice()\n",
    "if result == 6:\n",
    "    print(str(result) + \" you win!\")\n",
    "else:\n",
    "    print(str(result) + \" keep trying!\")"
   ]
  },
  {
   "cell_type": "code",
   "execution_count": null,
   "id": "11df683e",
   "metadata": {},
   "outputs": [],
   "source": [
    "# Random String Generation:"
   ]
  },
  {
   "cell_type": "code",
   "execution_count": null,
   "id": "9bf96e66",
   "metadata": {},
   "outputs": [],
   "source": [
    "# 1 Design a program that generates a random password consisting of uppercase letters, \n",
    "# lowercase letters, digits, and special characters."
   ]
  },
  {
   "cell_type": "code",
   "execution_count": null,
   "id": "0f5134d0",
   "metadata": {},
   "outputs": [],
   "source": [
    "import random as r\n",
    "import string as s\n",
    "x = s.ascii_letters\n",
    "y = s.digits\n",
    "z = s.punctuation\n",
    "temp = r.sample(x+y+z,8)\n",
    "password = \"\".join(temp)\n",
    "print(password)"
   ]
  },
  {
   "cell_type": "code",
   "execution_count": null,
   "id": "5f21a9a8",
   "metadata": {},
   "outputs": [],
   "source": [
    "# 2 Implement a random sentence generator that creates sentences by randomly selecting words from a predefined list."
   ]
  },
  {
   "cell_type": "code",
   "execution_count": null,
   "id": "e3a77c78",
   "metadata": {},
   "outputs": [],
   "source": [
    "import sys  \n",
    "!{sys.executable} -m pip install --user keytotext\n",
    "sys.path.append('C:\\\\Users\\\\adity\\\\AppData\\\\Roaming\\\\Python\\\\Python311\\\\Scripts')"
   ]
  },
  {
   "cell_type": "code",
   "execution_count": null,
   "id": "59bf1644",
   "metadata": {},
   "outputs": [],
   "source": [
    "import random as r\n",
    "from keytotext import pipeline\n",
    "myFile = open(\"C:\\\\Users\\\\adity\\\\Downloads\\\\wordFile.txt\", \"r\")\n",
    "openFile = myFile.read()\n",
    "contentList = list(set(openFile.split(\",\")))\n",
    "while True:\n",
    "    if '' in contentList:\n",
    "        contentList.remove('')\n",
    "    else:\n",
    "        break\n",
    "wordSelect = r.sample(contentList,5)\n",
    "nlp = pipeline(\"k2t-base\")\n",
    "config = {\"do_sample\": True, \"num_beams\": 4, \"no_repeat_ngram_size\": 3, \"early_stopping\": True}\n",
    "print(nlp(wordSelect, **config))"
   ]
  },
  {
   "cell_type": "code",
   "execution_count": 1,
   "id": "b1ed5d85",
   "metadata": {},
   "outputs": [],
   "source": [
    "# Pattern Generation in Loops:"
   ]
  },
  {
   "cell_type": "code",
   "execution_count": 2,
   "id": "ac6ff7e6-5946-4631-9aef-359c750123a3",
   "metadata": {},
   "outputs": [],
   "source": [
    "# 1 Write a program to generate a triangle pattern using nested loops:\n",
    "\n",
    "# 1\n",
    "# 12\n",
    "# 123\n",
    "# 1234"
   ]
  },
  {
   "cell_type": "code",
   "execution_count": 12,
   "id": "b4b53f7e-84eb-477b-9b25-d9d68c7ee86f",
   "metadata": {},
   "outputs": [
    {
     "name": "stdout",
     "output_type": "stream",
     "text": [
      "1\n",
      "12\n",
      "123\n",
      "1234\n"
     ]
    }
   ],
   "source": [
    "i = 0\n",
    "for i in range(1,5):\n",
    "    for j in range(1,i+1):\n",
    "        print(j , end = \"\")\n",
    "    print(\"\")    \n",
    "    i += 1    "
   ]
  },
  {
   "cell_type": "code",
   "execution_count": 14,
   "id": "c58ec2e9-e76b-445f-9f68-505676c1c7d1",
   "metadata": {},
   "outputs": [],
   "source": [
    "# 2 Create a program that generates a diamond pattern using loops:\n",
    "\n",
    "#   *\n",
    "#  ***\n",
    "# *****\n",
    "#  ***\n",
    "#   * "
   ]
  },
  {
   "cell_type": "code",
   "execution_count": 47,
   "id": "ac695d34-e8b9-465a-80b0-eef174bd8770",
   "metadata": {},
   "outputs": [
    {
     "name": "stdout",
     "output_type": "stream",
     "text": [
      "  *\n",
      " ***\n",
      "*****\n",
      " ***\n",
      "  *\n"
     ]
    }
   ],
   "source": [
    "def generate_diamond_pattern(height):\n",
    "    # Upper half of the diamond\n",
    "    for i in range(1, height + 1, 2):\n",
    "        spaces = (height - i) // 2\n",
    "        stars = i\n",
    "        print(' ' * spaces + '*' * stars)\n",
    "\n",
    "    # Lower half of the diamond\n",
    "    for i in range(height - 2, 0, -2):\n",
    "        spaces = (height - i) // 2\n",
    "        stars = i\n",
    "        print(' ' * spaces + '*' * stars)\n",
    "\n",
    "# Define the height of the diamond\n",
    "diamond_height = 5\n",
    "\n",
    "# Generate the diamond pattern\n",
    "generate_diamond_pattern(diamond_height)\n"
   ]
  },
  {
   "cell_type": "code",
   "execution_count": null,
   "id": "47692ebe-85ea-425a-b369-aad59caa7ab1",
   "metadata": {},
   "outputs": [],
   "source": [
    "# String Handling:"
   ]
  },
  {
   "cell_type": "code",
   "execution_count": 48,
   "id": "a3ed17e2-3e18-4abb-866e-f040c0d44fdc",
   "metadata": {},
   "outputs": [],
   "source": [
    "# 1 Write a function that takes a sentence and a word as input and\n",
    "# replaces all occurrences of the word in the sentence with \"X\".\n"
   ]
  },
  {
   "cell_type": "code",
   "execution_count": 50,
   "id": "3f6f0cb5-2ffa-4a10-bb2c-804681b1acdf",
   "metadata": {},
   "outputs": [
    {
     "name": "stdin",
     "output_type": "stream",
     "text": [
      "Enter sentence:  he is good\n",
      "Enter word:  good\n"
     ]
    },
    {
     "name": "stdout",
     "output_type": "stream",
     "text": [
      "he is x\n"
     ]
    }
   ],
   "source": [
    "def myStrOp(strng,wrd):\n",
    "    newStr = strng.replace(wrd,'x')\n",
    "    return newStr\n",
    "\n",
    "mySentence = input(\"Enter sentence: \")\n",
    "myWord = input(\"Enter word: \")\n",
    "\n",
    "print(myStrOp(mySentence,myWord))"
   ]
  },
  {
   "cell_type": "code",
   "execution_count": 51,
   "id": "3e34ca02-4792-41ea-985a-f7b1ac7ee824",
   "metadata": {},
   "outputs": [],
   "source": [
    "# 2 Implement a function that takes a string and a character as input and removes all occurrences of that character from the string."
   ]
  },
  {
   "cell_type": "code",
   "execution_count": 53,
   "id": "d3ec1fb2-9d06-4a89-ac87-056b2ce45341",
   "metadata": {},
   "outputs": [
    {
     "name": "stdin",
     "output_type": "stream",
     "text": [
      "Enter sentence:  he is good\n",
      "Enter character:  o\n"
     ]
    },
    {
     "name": "stdout",
     "output_type": "stream",
     "text": [
      "he is gd\n"
     ]
    }
   ],
   "source": [
    "def myStrOp(strng,chars):\n",
    "    newStr = strng.replace(chars,\"\")\n",
    "    return newStr\n",
    "\n",
    "mySentence = input(\"Enter sentence: \")\n",
    "myCharacter = input(\"Enter character: \")\n",
    "\n",
    "print(myStrOp(mySentence,myCharacter))"
   ]
  },
  {
   "cell_type": "code",
   "execution_count": 54,
   "id": "2105b086-4268-4cae-bc2a-df85d2562e2c",
   "metadata": {},
   "outputs": [],
   "source": [
    "# 3 Create a program that reads a text file and prints the number of words in it."
   ]
  },
  {
   "cell_type": "code",
   "execution_count": 62,
   "id": "25200f8b-c548-462f-8e8d-940146f2c396",
   "metadata": {},
   "outputs": [
    {
     "name": "stdout",
     "output_type": "stream",
     "text": [
      "26\n"
     ]
    }
   ],
   "source": [
    "myFile = open(\"C:\\\\Users\\\\adity\\\\OneDrive\\\\Documents\\\\programming\\\\python\\\\test.txt\",\"r\")\n",
    "openFile = myFile.read()\n",
    "wordLst = openFile.split(\"\\n\")\n",
    "while True:\n",
    "    if '' in wordLst:\n",
    "        wordLst.remove('')\n",
    "    else:\n",
    "        break\n",
    "newStatement = \" \".join(wordLst)\n",
    "print(len(newStatement.split(\" \")))"
   ]
  },
  {
   "cell_type": "code",
   "execution_count": 63,
   "id": "297bdd81-9d89-4577-bed4-5d4741f1e4f3",
   "metadata": {},
   "outputs": [],
   "source": [
    "# 4 Write a function that takes a string as input and returns the frequency of each word in a dictionary."
   ]
  },
  {
   "cell_type": "code",
   "execution_count": 73,
   "id": "64758db6-fa3f-42fd-9c66-2c7ca80d775f",
   "metadata": {},
   "outputs": [
    {
     "name": "stdin",
     "output_type": "stream",
     "text": [
      "Enter sentence:  you and me are having a lunch and visit my parents\n"
     ]
    },
    {
     "name": "stdout",
     "output_type": "stream",
     "text": [
      "{'are': 1, 'my': 1, 'parents': 1, 'me': 1, 'a': 1, 'lunch': 1, 'having': 1, 'visit': 1, 'and': 2, 'you': 1}\n"
     ]
    }
   ],
   "source": [
    "def strFrqCnt(str):\n",
    "            myDict = {}\n",
    "            wrdList = str.split(\" \")\n",
    "            wrdSet = list(set(wrdList))\n",
    "            for i in range(len(wrdSet)):\n",
    "                    myDict.update({wrdSet[i]:wrdList.count(wrdSet[i])})\n",
    "            return myDict\n",
    "myStr = input(\"Enter sentence: \")\n",
    "print(strFrqCnt(myStr))\n",
    "    "
   ]
  },
  {
   "cell_type": "code",
   "execution_count": null,
   "id": "3c66245c-9f0e-4fbc-a5fe-cad5db6e81a9",
   "metadata": {},
   "outputs": [],
   "source": []
  }
 ],
 "metadata": {
  "kernelspec": {
   "display_name": "Python 3 (ipykernel)",
   "language": "python",
   "name": "python3"
  },
  "language_info": {
   "codemirror_mode": {
    "name": "ipython",
    "version": 3
   },
   "file_extension": ".py",
   "mimetype": "text/x-python",
   "name": "python",
   "nbconvert_exporter": "python",
   "pygments_lexer": "ipython3",
   "version": "3.11.4"
  }
 },
 "nbformat": 4,
 "nbformat_minor": 5
}
