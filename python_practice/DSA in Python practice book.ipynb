{
 "cells": [
  {
   "cell_type": "code",
   "execution_count": null,
   "id": "68e03dbf",
   "metadata": {},
   "outputs": [],
   "source": [
    "#The following Python code justify the selection sort algorithm\n",
    "#Algorithm SelectionSort(a,n)\n",
    "#Sort the Array a[1 : n]\n",
    "#  {\n",
    "#    for i := 1 to n do\n",
    "#       {\n",
    "#         j := i\n",
    "#         for k := i+1 to n do\n",
    "#              if (a[k] < a[j]) then j := k\n",
    "#         t := a[i]; a[i] := a[j]; a[j] := t;\n",
    "#       }\n",
    "#  }"
   ]
  },
  {
   "cell_type": "code",
   "execution_count": null,
   "id": "8f92bde5",
   "metadata": {},
   "outputs": [],
   "source": [
    "myArr = [12,34,1,5,89,60,48,23,77]\n",
    "length = len(myArr)\n",
    "for x in range(0,length):\n",
    "    z = x\n",
    "    for y in range(x+1,length):\n",
    "        if myArr[y] < myArr[z]:\n",
    "            z = y\n",
    "    temp = myArr[x]\n",
    "    myArr[x] = myArr[z]\n",
    "    myArr[z] = temp\n",
    "\n",
    "print(myArr)    "
   ]
  },
  {
   "cell_type": "code",
   "execution_count": null,
   "id": "f45e7e3a",
   "metadata": {},
   "outputs": [],
   "source": [
    "# SelectionSort using function that takes an argument and return a value:\n",
    "def selectionSort(arr):\n",
    "        length = len(arr)\n",
    "        for x in range(0,length):\n",
    "            z = x\n",
    "            for y in range(x+1,length):\n",
    "                if arr[y] < arr[z]:\n",
    "                    z = y\n",
    "            temp = arr[x]\n",
    "            arr[x] = arr[z]\n",
    "            arr[z] = temp\n",
    "            \n",
    "        return arr\n",
    "\n",
    "    \n",
    "myArr = [12,34,1,5,89,60,48,23,77]\n",
    "result = selectionSort(myArr)\n",
    "print(result)"
   ]
  },
  {
   "cell_type": "code",
   "execution_count": null,
   "id": "65273d27",
   "metadata": {},
   "outputs": [],
   "source": [
    "# string S[1:n]\n",
    "#{   \n",
    "#    for i := 1 to n/2 -> intiger do\n",
    "#     {\n",
    "#       if S[i] != S[n-1-i] then flag := 1\n",
    "#     }\n",
    "#    if flag != 1 then palindrome\n",
    "#}"
   ]
  },
  {
   "cell_type": "code",
   "execution_count": null,
   "id": "d2bfbf2a",
   "metadata": {},
   "outputs": [],
   "source": [
    "x = 'rnr'\n",
    "y = len(x)\n",
    "flag = False\n",
    "for i in range(y//2+1):\n",
    "    if x[i] != x[y-1-i]:\n",
    "        flag = True\n",
    "if flag != True:\n",
    "    print(\"palindrome\")\n",
    "else:\n",
    "    print(\"not palindrome\")\n",
    "    "
   ]
  },
  {
   "cell_type": "code",
   "execution_count": null,
   "id": "743da080",
   "metadata": {},
   "outputs": [],
   "source": [
    "# tower of hanoi"
   ]
  },
  {
   "cell_type": "code",
   "execution_count": null,
   "id": "57a86e0b",
   "metadata": {},
   "outputs": [],
   "source": [
    "def towerOfHanoi(val,a,b,temp):\n",
    "    if val==0:\n",
    "        return;\n",
    "    towerOfHanoi(val - 1,a,temp,b)\n",
    "    print(\"disk: \"+str(val)+\" moved from: \"+a+\" to \"+b)\n",
    "    towerOfHanoi(val-1,temp,b,a)\n",
    "\n",
    "towerOfHanoi(4,'A','B','C')    "
   ]
  },
  {
   "cell_type": "code",
   "execution_count": null,
   "id": "957f0c9d",
   "metadata": {},
   "outputs": [],
   "source": [
    "#1)Write a Python program to create a list containing five integers. Perform the following operations on the list:\n",
    "#a) Add two more integers to the list.\n",
    "#b) Find the length of the list.\n",
    "#c) Sort the list in ascending order.\n",
    "#d) Remove a specific integer from the list.\n",
    "#e) Clear the list and print the final list."
   ]
  },
  {
   "cell_type": "code",
   "execution_count": 2,
   "id": "7f862f2d",
   "metadata": {},
   "outputs": [
    {
     "name": "stdout",
     "output_type": "stream",
     "text": [
      "[23, 15, 1, 16, 7, 2, 8]\n",
      "7\n",
      "[1, 2, 7, 8, 15, 16, 23]\n",
      "[1, 2, 7, 15, 16, 23]\n",
      "[]\n"
     ]
    }
   ],
   "source": [
    "myList = [23,15,1,16,7]\n",
    "x = [2,8]\n",
    "myList.extend(x)\n",
    "length = len(myList)\n",
    "print(myList)\n",
    "print(length)\n",
    "myList.sort()\n",
    "print(myList)\n",
    "myList.pop(3)\n",
    "print(myList)\n",
    "myList.clear()\n",
    "print(myList)\n",
    "\n"
   ]
  },
  {
   "cell_type": "code",
   "execution_count": 3,
   "id": "6ba86f5f",
   "metadata": {},
   "outputs": [],
   "source": [
    "#2)Create a tuple with five elements, each representing the name of a fruit. Perform the following operations on the tuple:\n",
    "#a) Print the third element of the tuple.\n",
    "#b) Check if \"Orange\" is present in the tuple.\n",
    "#c) Find the number of occurrences of \"Apple\" in the tuple.\n",
    "#d) Concatenate the tuple with another tuple containing three more fruits and print the result."
   ]
  },
  {
   "cell_type": "code",
   "execution_count": 11,
   "id": "0846a996",
   "metadata": {},
   "outputs": [
    {
     "name": "stdout",
     "output_type": "stream",
     "text": [
      "mango\n",
      "yes\n",
      "1\n",
      "('apple', 'orange', 'mango', 'coconut', 'lemon', 'guava', 'jackfruit', 'lichi')\n"
     ]
    }
   ],
   "source": [
    "myTpl = (\"apple\",\"orange\",\"mango\",\"coconut\",\"lemon\")\n",
    "temp = (\"guava\",\"jackfruit\",\"lichi\")\n",
    "print(myTpl[2])\n",
    "x = \"Orange\"\n",
    "y = x.lower()\n",
    "if y in myTpl:\n",
    "    print(\"yes\")\n",
    "print(myTpl.count(\"apple\"))\n",
    "print(myTpl+temp)"
   ]
  },
  {
   "cell_type": "code",
   "execution_count": 12,
   "id": "8f46eb69",
   "metadata": {},
   "outputs": [],
   "source": [
    "#3)Write a Python program to take input from the user to create a set of five colors. Perform the following operations on the set:\n",
    "#a) Add two more colors to the set.\n",
    "#b) Find the union of this set with another set containing three favorite colors.\n",
    "#c) Find the intersection of the two sets.\n",
    "#d) Remove a color from the set if it exists, otherwise, print a message that the color is not found."
   ]
  },
  {
   "cell_type": "code",
   "execution_count": 19,
   "id": "afccc799",
   "metadata": {},
   "outputs": [
    {
     "name": "stdout",
     "output_type": "stream",
     "text": [
      "Please a colour: red\n",
      "Please a colour: green\n",
      "Please a colour: blue\n",
      "Please a colour: yellow\n",
      "Please a colour: pink\n",
      "{'red', 'yellow', 'green', 'pink', 'orange', 'violate', 'blue'}\n",
      "{'red', 'chocolet', 'lemon yellow', 'indigo', 'yellow', 'green', 'pink', 'orange', 'cyan', 'violate', 'blue'}\n",
      "{'pink', 'red'}\n"
     ]
    }
   ],
   "source": [
    "temp = []\n",
    "for x in range(5):\n",
    "    x = input(\"Please a colour: \")\n",
    "    temp.append(x)\n",
    "mySet = set(temp)   \n",
    "other = {\"violate\",\"orange\"}\n",
    "mySet.update(other)\n",
    "print(mySet)\n",
    "fabSet = {\"cyan\",\"indigo\",\"chocolet\",\"red\",\"pink\",\"lemon yellow\"}\n",
    "newSet = mySet.union(fabSet)\n",
    "print(newSet)\n",
    "comonSet = mySet.intersection(fabSet)\n",
    "print(comonSet)"
   ]
  },
  {
   "cell_type": "code",
   "execution_count": 21,
   "id": "5372c380",
   "metadata": {
    "scrolled": true
   },
   "outputs": [
    {
     "name": "stdout",
     "output_type": "stream",
     "text": [
      "Please a colour: red\n",
      "Please a colour: green\n",
      "Please a colour: blue\n",
      "Please a colour: yellow\n",
      "Please a colour: pink\n",
      "{'red', 'yellow', 'green', 'pink', 'blue'}\n",
      "please enter the color to be removed: pink\n",
      "{'red', 'yellow', 'green', 'blue'}\n"
     ]
    }
   ],
   "source": [
    "temp = []\n",
    "for x in range(5):\n",
    "    x = input(\"Please a colour: \")\n",
    "    temp.append(x)\n",
    "mySet = set(temp)\n",
    "print(mySet)\n",
    "color = input(\"please enter the color to be removed: \")\n",
    "if color in mySet:\n",
    "    mySet.remove(color)\n",
    "    print(mySet)\n",
    "else:\n",
    "    print(\"color doesn't exist!\")"
   ]
  },
  {
   "cell_type": "code",
   "execution_count": 22,
   "id": "fbf4e293",
   "metadata": {},
   "outputs": [],
   "source": [
    "#4)Create a dictionary representing a student record with the following keys: \"name\", \"age\", \"roll_no\", \"marks\". Perform the following operations on the dictionary:\n",
    "#a) Print the student's name.\n",
    "#b) Add a new key-value pair for \"subject\" and \"Mathematics\".\n",
    "#c) Check if \"marks\" key exists in the dictionary and print the result.\n",
    "#d) Update the \"age\" to a new value.\n",
    "#e) Remove the \"roll_no\" key from the dictionary."
   ]
  },
  {
   "cell_type": "code",
   "execution_count": 33,
   "id": "a01a797d",
   "metadata": {},
   "outputs": [
    {
     "name": "stdout",
     "output_type": "stream",
     "text": [
      "{'name': 'Aditya Debnath', 'age': '24', 'roll_no': '2030401082', 'marks': '9.34'}\n",
      "Aditya Debnath\n",
      "{'name': 'Aditya Debnath', 'age': '24', 'roll_no': '2030401082', 'marks': '9.34', 'subject': 'mathematics'}\n",
      "yes\n",
      "{'name': 'Aditya Debnath', 'age': '25', 'roll_no': '2030401082', 'marks': '9.34', 'subject': 'mathematics'}\n",
      "{'name': 'Aditya Debnath', 'age': '25', 'marks': '9.34', 'subject': 'mathematics'}\n"
     ]
    }
   ],
   "source": [
    "student = {\n",
    "    \"name\" : \"Aditya Debnath\",\n",
    "    \"age\"  : \"24\",\n",
    "    \"roll_no\" : \"2030401082\",\n",
    "    \"marks\"  : \"9.34\"\n",
    "    }\n",
    "print(student)\n",
    "print(student.get(\"name\"))\n",
    "student.update({\"subject\" : \"mathematics\"})\n",
    "print(student)\n",
    "x = student.keys()\n",
    "if \"marks\" in x:\n",
    "    print(\"yes\")\n",
    "student.update({\"age\" : \"25\"}) \n",
    "print(student)\n",
    "student.pop(\"roll_no\")\n",
    "print(student)"
   ]
  },
  {
   "cell_type": "code",
   "execution_count": 34,
   "id": "fbe12f83",
   "metadata": {},
   "outputs": [],
   "source": [
    "#5)Write a Python program to create two lists, each containing five integers. Perform the following operations on these lists:\n",
    "#a) Find the maximum and minimum elements from each list.\n",
    "#b) Concatenate the two lists and print the result.\n",
    "#c) Create a new list containing elements that are present in both lists.\n",
    "#d) Sort the merged list in descending order."
   ]
  },
  {
   "cell_type": "code",
   "execution_count": 39,
   "id": "475813e3",
   "metadata": {},
   "outputs": [
    {
     "name": "stdout",
     "output_type": "stream",
     "text": [
      "max element for a 20 and b 10\n"
     ]
    }
   ],
   "source": [
    "a = [2,4,6,8,20]\n",
    "b = [2,3,6,8,10]\n",
    "a.sort()\n",
    "b.sort()\n",
    "print(\"max element for a \"+str(a[len(a)-1])+\" and b \"+str(b[len(b)-1]))"
   ]
  },
  {
   "cell_type": "code",
   "execution_count": 40,
   "id": "def89ab0",
   "metadata": {},
   "outputs": [
    {
     "name": "stdout",
     "output_type": "stream",
     "text": [
      "[2, 4, 6, 8, 20, 2, 3, 6, 8, 10]\n"
     ]
    }
   ],
   "source": [
    "print(a+b)"
   ]
  },
  {
   "cell_type": "code",
   "execution_count": 41,
   "id": "e74d55b8",
   "metadata": {},
   "outputs": [
    {
     "name": "stdout",
     "output_type": "stream",
     "text": [
      "[8, 2, 6]\n"
     ]
    }
   ],
   "source": [
    "x = set(a)\n",
    "y = set(b)\n",
    "k = x.intersection(y)\n",
    "m = list(k)\n",
    "print(m)"
   ]
  },
  {
   "cell_type": "code",
   "execution_count": 45,
   "id": "4238ca07",
   "metadata": {},
   "outputs": [
    {
     "name": "stdout",
     "output_type": "stream",
     "text": [
      "[20, 10, 8, 6, 4, 3, 2]\n"
     ]
    }
   ],
   "source": [
    "temp = x.union(y)\n",
    "n = list(temp)\n",
    "n.sort(reverse = True)\n",
    "print(n)"
   ]
  },
  {
   "cell_type": "code",
   "execution_count": 46,
   "id": "e677b663",
   "metadata": {},
   "outputs": [],
   "source": [
    "#6)Create a tuple with ten elements, including both integers and strings. Perform the following operations on the tuple:\n",
    "#a) Count the number of integers and strings in the tuple.\n",
    "#b) Find the index of a specific element (integer or string) in the tuple.\n",
    "#c) Slice the tuple to get the first five elements and last three elements separately."
   ]
  },
  {
   "cell_type": "code",
   "execution_count": 47,
   "id": "71dbed8b",
   "metadata": {},
   "outputs": [
    {
     "name": "stdout",
     "output_type": "stream",
     "text": [
      "['a', 1, 4, 'e', 'i', 0, '0', 8, 'u', 6]\n"
     ]
    }
   ],
   "source": [
    "x = [\"a\",1,4,\"e\",\"i\",0,\"0\",8,\"u\",6]\n",
    "print(x)"
   ]
  },
  {
   "cell_type": "code",
   "execution_count": 56,
   "id": "ba849912",
   "metadata": {},
   "outputs": [
    {
     "name": "stdout",
     "output_type": "stream",
     "text": [
      "5\n",
      "5\n",
      "3\n",
      "['a', 1, 4, 'e', 'i']\n"
     ]
    }
   ],
   "source": [
    "string = len(list(i for i in x if isinstance(i,str)))\n",
    "print(string)\n",
    "number = len(list(j for j in x if isinstance(j,int)))\n",
    "print(number)\n",
    "print(x.index(\"e\"))\n",
    "print(x[0:5])"
   ]
  },
  {
   "cell_type": "code",
   "execution_count": 1,
   "id": "c5c03278",
   "metadata": {},
   "outputs": [],
   "source": [
    "#7)Write a Python program to take input from the user to create a set of ten elements. Perform the following operations on the set:\n",
    "#a) Print the set in ascending order.\n",
    "#b) Find the difference between this set and another set with five common elements.\n",
    "#c) Check if the sets have any common elements and print the result.\n",
    "#d) Find the length of the set."
   ]
  },
  {
   "cell_type": "code",
   "execution_count": 5,
   "id": "37e62383",
   "metadata": {},
   "outputs": [
    {
     "name": "stdout",
     "output_type": "stream",
     "text": [
      "please enter a value12\n",
      "please enter a value32\n",
      "please enter a value40\n",
      "please enter a value0\n",
      "please enter a value2\n",
      "please enter a value4\n",
      "please enter a value6\n",
      "please enter a value79\n",
      "please enter a value30\n",
      "please enter a value81\n",
      "{0, 32, 2, 4, 6, 40, 12, 79, 81, 30}\n"
     ]
    }
   ],
   "source": [
    "myList = []\n",
    "for x in range(10):\n",
    "    temp = int(input(\"please enter a value\"))\n",
    "    myList.append(temp)\n",
    "\n",
    "myList.sort()\n",
    "mySet = set(myList)\n",
    "print(mySet)\n",
    "    \n"
   ]
  },
  {
   "cell_type": "code",
   "execution_count": 6,
   "id": "fabf515e",
   "metadata": {},
   "outputs": [
    {
     "name": "stdout",
     "output_type": "stream",
     "text": [
      "[0, 2, 4, 6, 12, 30, 32, 40, 79, 81]\n"
     ]
    }
   ],
   "source": [
    "print(myList)"
   ]
  },
  {
   "cell_type": "code",
   "execution_count": 8,
   "id": "48f9cc58",
   "metadata": {},
   "outputs": [
    {
     "name": "stdout",
     "output_type": "stream",
     "text": [
      "[0, 2, 4, 6, 12, 30, 32, 40, 79, 81]\n"
     ]
    }
   ],
   "source": [
    "print(sorted(mySet))"
   ]
  },
  {
   "cell_type": "code",
   "execution_count": 10,
   "id": "32404df3",
   "metadata": {},
   "outputs": [
    {
     "name": "stdout",
     "output_type": "stream",
     "text": [
      "set()\n"
     ]
    }
   ],
   "source": [
    "newSet = {0,2,4,6,12}\n",
    "print(newSet - mySet)"
   ]
  },
  {
   "cell_type": "code",
   "execution_count": 11,
   "id": "d8dbdbf9",
   "metadata": {},
   "outputs": [
    {
     "name": "stdout",
     "output_type": "stream",
     "text": [
      "{0, 2, 4, 6, 12}\n"
     ]
    }
   ],
   "source": [
    "x = mySet.intersection(newSet)\n",
    "print(x)"
   ]
  },
  {
   "cell_type": "code",
   "execution_count": 12,
   "id": "ed24c6ee",
   "metadata": {},
   "outputs": [
    {
     "name": "stdout",
     "output_type": "stream",
     "text": [
      "10\n"
     ]
    }
   ],
   "source": [
    "print(len(mySet))"
   ]
  },
  {
   "cell_type": "code",
   "execution_count": 13,
   "id": "28163115",
   "metadata": {},
   "outputs": [],
   "source": [
    "#8)Create a dictionary representing a shopping cart with items as keys and their prices as values. Perform the following operations on the dictionary:\n",
    "#a) Print all the items in the cart.\n",
    "#b) Calculate the total price of all items in the cart.\n",
    "#c) Add a discount of 10% to the price of each item.\n",
    "#d) Check if a specific item exists in the cart."
   ]
  },
  {
   "cell_type": "code",
   "execution_count": 14,
   "id": "119eeabf",
   "metadata": {},
   "outputs": [],
   "source": [
    "myCart = {\n",
    "    \"soap\" : 20,\n",
    "    \"chocolet\" : 10,\n",
    "    \"apple\" : 80,\n",
    "    \"banana\" : 30,\n",
    "    \"plaster\" : 45,\n",
    "    \"room freshner\" : 60\n",
    "    \n",
    "}"
   ]
  },
  {
   "cell_type": "code",
   "execution_count": 16,
   "id": "b1153ab9",
   "metadata": {},
   "outputs": [
    {
     "name": "stdout",
     "output_type": "stream",
     "text": [
      "dict_keys(['soap', 'chocolet', 'apple', 'banana', 'plaster', 'room freshner'])\n"
     ]
    }
   ],
   "source": [
    "print(myCart.keys())"
   ]
  },
  {
   "cell_type": "code",
   "execution_count": 19,
   "id": "cfaa3993",
   "metadata": {},
   "outputs": [
    {
     "name": "stdout",
     "output_type": "stream",
     "text": [
      "245\n"
     ]
    }
   ],
   "source": [
    "x = list(myCart.values())\n",
    "y = 0\n",
    "for count in range(len(x)):\n",
    "    y = y + x[count]\n",
    "print(y)"
   ]
  },
  {
   "cell_type": "code",
   "execution_count": 20,
   "id": "2213f024",
   "metadata": {},
   "outputs": [
    {
     "data": {
      "text/plain": [
       "True"
      ]
     },
     "execution_count": 20,
     "metadata": {},
     "output_type": "execute_result"
    }
   ],
   "source": [
    "\"plaster\" in myCart"
   ]
  },
  {
   "cell_type": "code",
   "execution_count": 21,
   "id": "64f9eb73",
   "metadata": {},
   "outputs": [
    {
     "name": "stdout",
     "output_type": "stream",
     "text": [
      "[2, 4, 6, 8, 10]\n"
     ]
    }
   ],
   "source": [
    "x = [2,4,6,8,10]\n",
    "print(list(set(x)))"
   ]
  },
  {
   "cell_type": "code",
   "execution_count": 1,
   "id": "2f879808",
   "metadata": {},
   "outputs": [],
   "source": [
    "#\n",
    "#"
   ]
  },
  {
   "cell_type": "code",
   "execution_count": 2,
   "id": "515ce986",
   "metadata": {},
   "outputs": [],
   "source": [
    "#"
   ]
  },
  {
   "cell_type": "code",
   "execution_count": 3,
   "id": "3a268165",
   "metadata": {},
   "outputs": [],
   "source": [
    "#"
   ]
  },
  {
   "cell_type": "code",
   "execution_count": 4,
   "id": "8e5af11d",
   "metadata": {},
   "outputs": [],
   "source": [
    "#"
   ]
  },
  {
   "cell_type": "code",
   "execution_count": 5,
   "id": "34a83f55",
   "metadata": {},
   "outputs": [],
   "source": [
    "#"
   ]
  },
  {
   "cell_type": "code",
   "execution_count": null,
   "id": "6ce7218b",
   "metadata": {},
   "outputs": [],
   "source": [
    "#\n",
    "#\n",
    "#"
   ]
  },
  {
   "cell_type": "code",
   "execution_count": 7,
   "id": "8ceb3a93",
   "metadata": {},
   "outputs": [
    {
     "name": "stdout",
     "output_type": "stream",
     "text": [
      "hello*aamit\n"
     ]
    }
   ],
   "source": [
    "print(\"hello\" , \"aamit\" , sep = \"*\")"
   ]
  },
  {
   "cell_type": "code",
   "execution_count": 11,
   "id": "654181ed",
   "metadata": {},
   "outputs": [
    {
     "name": "stdout",
     "output_type": "stream",
     "text": [
      "hello\n",
      "world\n"
     ]
    }
   ],
   "source": [
    "print(\"hello\")\n",
    "print(\"world\")"
   ]
  },
  {
   "cell_type": "code",
   "execution_count": 12,
   "id": "7293f5b0",
   "metadata": {},
   "outputs": [
    {
     "name": "stdout",
     "output_type": "stream",
     "text": [
      "0 1 2 3 4 end\n"
     ]
    }
   ],
   "source": [
    "import time\n",
    "for i in range(5):\n",
    "    print(i, end=\" \", flush=True) # Print numbers as soon as they are generated\n",
    "    # print(i, end=\" \", flush=False) # Print everything together at the end\n",
    "    time.sleep(0.5)\n",
    "print(\"end\")\n"
   ]
  },
  {
   "cell_type": "code",
   "execution_count": 26,
   "id": "0f1eaf1b",
   "metadata": {},
   "outputs": [
    {
     "name": "stdout",
     "output_type": "stream",
     "text": [
      "..........\n",
      "..........\n",
      "..........\n",
      "..........\n",
      "..........\n",
      "..........\n",
      "..........\n",
      "..........\n",
      "..........\n",
      "..........\n"
     ]
    }
   ],
   "source": [
    "count = 0\n",
    "while count < 10:\n",
    "    print('.'*count,end = '')\n",
    "    print('.'*(10 - count))\n",
    "    count += 1"
   ]
  },
  {
   "cell_type": "code",
   "execution_count": 31,
   "id": "be70a6d0",
   "metadata": {},
   "outputs": [
    {
     "name": "stdout",
     "output_type": "stream",
     "text": [
      "[2, 4, 6, 8, 10]\n"
     ]
    }
   ],
   "source": [
    "print(list(i for i in range(1,11) if i%2==0))"
   ]
  },
  {
   "cell_type": "code",
   "execution_count": 37,
   "id": "56b66e64",
   "metadata": {},
   "outputs": [
    {
     "name": "stdout",
     "output_type": "stream",
     "text": [
      "{2, 3, 4, 6, 8, 10, 11}\n"
     ]
    }
   ],
   "source": [
    "set1 = {2,4,6,8,10}\n",
    "set2 = {2,3,6,8,11}\n",
    "set3 = set1 | set2\n",
    "print(set3)\n",
    "# & --> intersection\n",
    "# | --> union"
   ]
  },
  {
   "cell_type": "code",
   "execution_count": 42,
   "id": "cc94227b",
   "metadata": {},
   "outputs": [
    {
     "data": {
      "text/plain": [
       "True"
      ]
     },
     "execution_count": 42,
     "metadata": {},
     "output_type": "execute_result"
    }
   ],
   "source": [
    "(10 ^ 10) == (3 ^ 3)"
   ]
  },
  {
   "cell_type": "code",
   "execution_count": 43,
   "id": "9d6ff62d",
   "metadata": {},
   "outputs": [
    {
     "data": {
      "text/plain": [
       "True"
      ]
     },
     "execution_count": 43,
     "metadata": {},
     "output_type": "execute_result"
    }
   ],
   "source": [
    "3 == 7>>1"
   ]
  },
  {
   "cell_type": "code",
   "execution_count": 45,
   "id": "29382e78",
   "metadata": {},
   "outputs": [
    {
     "name": "stdout",
     "output_type": "stream",
     "text": [
      "14\n"
     ]
    }
   ],
   "source": [
    "print(7<<1)"
   ]
  },
  {
   "cell_type": "code",
   "execution_count": 51,
   "id": "7dff42fb",
   "metadata": {},
   "outputs": [
    {
     "data": {
      "text/plain": [
       "False"
      ]
     },
     "execution_count": 51,
     "metadata": {},
     "output_type": "execute_result"
    }
   ],
   "source": [
    "strng1 = 'a'\n",
    "strng2 = 'b'\n",
    "strng1 > strng2"
   ]
  },
  {
   "cell_type": "code",
   "execution_count": 55,
   "id": "ee4f7950",
   "metadata": {},
   "outputs": [
    {
     "data": {
      "text/plain": [
       "[1, 2, 3, 4, 5, 6, 7, 8, 9, 10]"
      ]
     },
     "execution_count": 55,
     "metadata": {},
     "output_type": "execute_result"
    }
   ],
   "source": [
    "list(i for i in range(1,11) if i%(i+1) != 0)"
   ]
  },
  {
   "cell_type": "code",
   "execution_count": 56,
   "id": "da193aec",
   "metadata": {},
   "outputs": [],
   "source": [
    "import math as m"
   ]
  },
  {
   "cell_type": "code",
   "execution_count": 57,
   "id": "4828d7fd",
   "metadata": {},
   "outputs": [
    {
     "data": {
      "text/plain": [
       "1.3838965267367376e-87"
      ]
     },
     "execution_count": 57,
     "metadata": {},
     "output_type": "execute_result"
    }
   ],
   "source": [
    "m.exp((-200))"
   ]
  },
  {
   "cell_type": "code",
   "execution_count": 73,
   "id": "0f48cbee",
   "metadata": {},
   "outputs": [
    {
     "name": "stdout",
     "output_type": "stream",
     "text": [
      "['a', 'spread', 'of', 'behiveor']\n"
     ]
    }
   ],
   "source": [
    "string = \"a spread of good behiveor\"\n",
    "x = list(string.split(\" \"))\n",
    "x.remove('good')\n",
    "print(x)"
   ]
  },
  {
   "cell_type": "code",
   "execution_count": 86,
   "id": "29ba9c1b",
   "metadata": {},
   "outputs": [
    {
     "name": "stdout",
     "output_type": "stream",
     "text": [
      "9 6 10 3 1 8 9 3 8 2 1 2 9 7 4 10 5 7 8 5 9 7 10 2 6 3 7 4 1 5 6 9 2 3 8 10 2 5 10 2 10 2 8 2 2 3 6 5 7 "
     ]
    },
    {
     "ename": "KeyboardInterrupt",
     "evalue": "",
     "output_type": "error",
     "traceback": [
      "\u001b[1;31m---------------------------------------------------------------------------\u001b[0m",
      "\u001b[1;31mKeyboardInterrupt\u001b[0m                         Traceback (most recent call last)",
      "Cell \u001b[1;32mIn[86], line 5\u001b[0m\n\u001b[0;32m      3\u001b[0m \u001b[38;5;28;01mwhile\u001b[39;00m \u001b[38;5;28;01mTrue\u001b[39;00m:\n\u001b[0;32m      4\u001b[0m     \u001b[38;5;28mprint\u001b[39m(r\u001b[38;5;241m.\u001b[39mrandint(\u001b[38;5;241m1\u001b[39m,\u001b[38;5;241m10\u001b[39m), end \u001b[38;5;241m=\u001b[39m \u001b[38;5;124m'\u001b[39m\u001b[38;5;124m \u001b[39m\u001b[38;5;124m'\u001b[39m, flush \u001b[38;5;241m=\u001b[39m \u001b[38;5;28;01mFalse\u001b[39;00m)\n\u001b[1;32m----> 5\u001b[0m     t\u001b[38;5;241m.\u001b[39msleep(\u001b[38;5;241m0.5\u001b[39m)\n",
      "\u001b[1;31mKeyboardInterrupt\u001b[0m: "
     ]
    }
   ],
   "source": [
    "import random as r\n",
    "import time as t\n",
    "while True:\n",
    "    print(r.randint(1,10), end = ' ', flush = False)\n",
    "    t.sleep(0.5)"
   ]
  },
  {
   "cell_type": "code",
   "execution_count": 92,
   "id": "97a2754e",
   "metadata": {},
   "outputs": [
    {
     "name": "stdout",
     "output_type": "stream",
     "text": [
      "81.152\n"
     ]
    }
   ],
   "source": [
    "import random as r\n",
    "print(round((r.uniform(1,100)),3))"
   ]
  },
  {
   "cell_type": "code",
   "execution_count": 117,
   "id": "e231bd01",
   "metadata": {},
   "outputs": [
    {
     "name": "stdout",
     "output_type": "stream",
     "text": [
      "RjOD{[E5rFqQilV0\n"
     ]
    }
   ],
   "source": [
    "import string as s\n",
    "import random as r\n",
    "x = s.ascii_letters\n",
    "k = s.digits\n",
    "z = s.punctuation\n",
    "y = r.sample(x+k+z, 16)\n",
    "print(\"\".join(y))\n"
   ]
  },
  {
   "cell_type": "code",
   "execution_count": null,
   "id": "72611def",
   "metadata": {},
   "outputs": [],
   "source": []
  },
  {
   "cell_type": "code",
   "execution_count": null,
   "id": "85836004",
   "metadata": {},
   "outputs": [],
   "source": []
  }
 ],
 "metadata": {
  "kernelspec": {
   "display_name": "Python 3 (ipykernel)",
   "language": "python",
   "name": "python3"
  },
  "language_info": {
   "codemirror_mode": {
    "name": "ipython",
    "version": 3
   },
   "file_extension": ".py",
   "mimetype": "text/x-python",
   "name": "python",
   "nbconvert_exporter": "python",
   "pygments_lexer": "ipython3",
   "version": "3.11.4"
  }
 },
 "nbformat": 4,
 "nbformat_minor": 5
}
